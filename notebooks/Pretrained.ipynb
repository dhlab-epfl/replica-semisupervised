{
 "cells": [
  {
   "cell_type": "markdown",
   "metadata": {},
   "source": [
    "# Replica project\n",
    "\n",
    "### Pretrained networks\n",
    "\n",
    "Testing the different pretrained networks and resolutions for best performance."
   ]
  },
  {
   "cell_type": "code",
   "execution_count": 1,
   "metadata": {},
   "outputs": [
    {
     "name": "stderr",
     "output_type": "stream",
     "text": [
      "2022-04-28 11:39:21.756791: I tensorflow/stream_executor/platform/default/dso_loader.cc:49] Successfully opened dynamic library libcudart.so.10.1\n"
     ]
    }
   ],
   "source": [
    "# loading the metadata\n",
    "%load_ext autoreload\n",
    "%autoreload 2\n",
    "\n",
    "import pandas as pd\n",
    "import numpy as np\n",
    "\n",
    "from tqdm import tqdm\n",
    "from glob import glob\n",
    "\n",
    "import torch\n",
    "\n",
    "sys.path.insert(0, \"../model/\")\n",
    "from utils import *\n",
    "from metrics import *\n",
    "from model_replica import ReplicaNet\n",
    "\n",
    "\n",
    "path = '/home/guhennec/scratch/2021_Cini/TopologicalAnalysis_Cini/data/'\n",
    "data_dir = '/scratch/students/schaerf/'"
   ]
  },
  {
   "cell_type": "code",
   "execution_count": 2,
   "metadata": {},
   "outputs": [
    {
     "name": "stdout",
     "output_type": "stream",
     "text": [
      "(6163, 45)\n"
     ]
    },
    {
     "data": {
      "text/html": [
       "<div>\n",
       "<style scoped>\n",
       "    .dataframe tbody tr th:only-of-type {\n",
       "        vertical-align: middle;\n",
       "    }\n",
       "\n",
       "    .dataframe tbody tr th {\n",
       "        vertical-align: top;\n",
       "    }\n",
       "\n",
       "    .dataframe thead th {\n",
       "        text-align: right;\n",
       "    }\n",
       "</style>\n",
       "<table border=\"1\" class=\"dataframe\">\n",
       "  <thead>\n",
       "    <tr style=\"text-align: right;\">\n",
       "      <th></th>\n",
       "      <th>uid_connection</th>\n",
       "      <th>index</th>\n",
       "      <th>uid</th>\n",
       "      <th>Drawer</th>\n",
       "      <th>ImageNumber</th>\n",
       "      <th>Author</th>\n",
       "      <th>Description</th>\n",
       "      <th>AuthorOriginal</th>\n",
       "      <th>AuthorULANLabel</th>\n",
       "      <th>AuthorULAN</th>\n",
       "      <th>...</th>\n",
       "      <th>AuthorBirthCity</th>\n",
       "      <th>AuthorDeathCity</th>\n",
       "      <th>CardboardURL</th>\n",
       "      <th>ImageURL</th>\n",
       "      <th>img1</th>\n",
       "      <th>img2</th>\n",
       "      <th>type</th>\n",
       "      <th>annotated</th>\n",
       "      <th>cluster</th>\n",
       "      <th>set</th>\n",
       "    </tr>\n",
       "  </thead>\n",
       "  <tbody>\n",
       "    <tr>\n",
       "      <th>0</th>\n",
       "      <td>002ca9c06a704c779e69d93cb4fadaa3</td>\n",
       "      <td>649</td>\n",
       "      <td>45588b4e33444ed8b34c523bac808bc4</td>\n",
       "      <td>158B</td>\n",
       "      <td>556</td>\n",
       "      <td>TIZIANO Vecellio (copia da)</td>\n",
       "      <td>S.Mariá Maddalena. cm. 123 x 91</td>\n",
       "      <td>TIZIANO (copia da -)</td>\n",
       "      <td>Titian</td>\n",
       "      <td>ulan:500031075</td>\n",
       "      <td>...</td>\n",
       "      <td>Belluno</td>\n",
       "      <td>Venice</td>\n",
       "      <td>https://dhlabsrv4.epfl.ch/iiif_cini/158B%2F158...</td>\n",
       "      <td>https://dhlabsrv4.epfl.ch/iiif_replica/cini%2F...</td>\n",
       "      <td>45588b4e33444ed8b34c523bac808bc4</td>\n",
       "      <td>da54c106180449d1a52993e9a5bc17fd</td>\n",
       "      <td>POSITIVE</td>\n",
       "      <td>2018-07-24 14:58:44.559049+00:00</td>\n",
       "      <td>50.0</td>\n",
       "      <td>train</td>\n",
       "    </tr>\n",
       "    <tr>\n",
       "      <th>1</th>\n",
       "      <td>0038ab462149452b98a4d7359a06f9f4</td>\n",
       "      <td>1571</td>\n",
       "      <td>ae828b07e4284d80b652206ffb77278a</td>\n",
       "      <td>158C</td>\n",
       "      <td>120</td>\n",
       "      <td>TIZIANO Vecellio (copia da)</td>\n",
       "      <td>Morte di S. Pietro Martire. mm. 123,8 x 84,2</td>\n",
       "      <td>TIZIANO (copia da -)</td>\n",
       "      <td>Titian</td>\n",
       "      <td>ulan:500031075</td>\n",
       "      <td>...</td>\n",
       "      <td>Belluno</td>\n",
       "      <td>Venice</td>\n",
       "      <td>https://dhlabsrv4.epfl.ch/iiif_cini/158C%2F158...</td>\n",
       "      <td>https://dhlabsrv4.epfl.ch/iiif_replica/cini%2F...</td>\n",
       "      <td>ae828b07e4284d80b652206ffb77278a</td>\n",
       "      <td>ea64207684694d379579998f88b7c29a</td>\n",
       "      <td>POSITIVE</td>\n",
       "      <td>2018-07-16 09:47:57.987515+00:00</td>\n",
       "      <td>51.0</td>\n",
       "      <td>test</td>\n",
       "    </tr>\n",
       "    <tr>\n",
       "      <th>2</th>\n",
       "      <td>00474897de044f7fb1ef16888dc198f3</td>\n",
       "      <td>1107</td>\n",
       "      <td>76b2c4aeab404bc79768117e3ddc62b1</td>\n",
       "      <td>47A</td>\n",
       "      <td>858</td>\n",
       "      <td>BELLINI Giovanni (cerchia di)</td>\n",
       "      <td>Pietà.</td>\n",
       "      <td>BELLINI, Giovanni (cerchia di -)</td>\n",
       "      <td>Bellini, Giovanni</td>\n",
       "      <td>ulan:500019244</td>\n",
       "      <td>...</td>\n",
       "      <td>Venice</td>\n",
       "      <td>Venice</td>\n",
       "      <td>https://dhlabsrv4.epfl.ch/iiif_cini/47A%2F47A_...</td>\n",
       "      <td>https://dhlabsrv4.epfl.ch/iiif_replica/cini%2F...</td>\n",
       "      <td>76b2c4aeab404bc79768117e3ddc62b1</td>\n",
       "      <td>b8dd2c0c2c7146e68e5bbb0aaf6cf803</td>\n",
       "      <td>POSITIVE</td>\n",
       "      <td>2018-03-14 10:46:45.603341+00:00</td>\n",
       "      <td>498.0</td>\n",
       "      <td>test</td>\n",
       "    </tr>\n",
       "    <tr>\n",
       "      <th>3</th>\n",
       "      <td>009c03c265b8418495da038bc3826bf7</td>\n",
       "      <td>1764</td>\n",
       "      <td>c5839e5220e5419e92d878396b0c04bb</td>\n",
       "      <td>135C</td>\n",
       "      <td>57</td>\n",
       "      <td>SEC XVI ex</td>\n",
       "      <td>Un soffitto. Part.: Leda e il cigno.</td>\n",
       "      <td>SEC. XVI ex.</td>\n",
       "      <td>NaN</td>\n",
       "      <td>NaN</td>\n",
       "      <td>...</td>\n",
       "      <td>NaN</td>\n",
       "      <td>NaN</td>\n",
       "      <td>https://dhlabsrv4.epfl.ch/iiif_cini/135C%2F135...</td>\n",
       "      <td>https://dhlabsrv4.epfl.ch/iiif_replica/cini%2F...</td>\n",
       "      <td>450ee2aceb014709b23a93e1163937c5</td>\n",
       "      <td>c5839e5220e5419e92d878396b0c04bb</td>\n",
       "      <td>POSITIVE</td>\n",
       "      <td>2018-05-07 08:28:11.797723+00:00</td>\n",
       "      <td>92.0</td>\n",
       "      <td>train</td>\n",
       "    </tr>\n",
       "    <tr>\n",
       "      <th>4</th>\n",
       "      <td>00aeddb93a8a4120aa984eda6c822747</td>\n",
       "      <td>747</td>\n",
       "      <td>4d02860f58f2443ba4d1ef088756f854</td>\n",
       "      <td>21C</td>\n",
       "      <td>228</td>\n",
       "      <td>BASSANO Leandro</td>\n",
       "      <td>La preparazione del pranzo. cm. 88,3 x 102,9</td>\n",
       "      <td>BASSANO, Leandro.</td>\n",
       "      <td>Bassano, Leandro</td>\n",
       "      <td>ulan:500015945</td>\n",
       "      <td>...</td>\n",
       "      <td>Bassano del Grappa</td>\n",
       "      <td>Venice</td>\n",
       "      <td>https://dhlabsrv4.epfl.ch/iiif_cini/21C%2F21C_...</td>\n",
       "      <td>https://dhlabsrv4.epfl.ch/iiif_replica/cini%2F...</td>\n",
       "      <td>4d02860f58f2443ba4d1ef088756f854</td>\n",
       "      <td>27bad0f213a342c3987e8cec61e40550</td>\n",
       "      <td>POSITIVE</td>\n",
       "      <td>2018-03-23 15:41:53.094226+00:00</td>\n",
       "      <td>218.0</td>\n",
       "      <td>train</td>\n",
       "    </tr>\n",
       "  </tbody>\n",
       "</table>\n",
       "<p>5 rows × 45 columns</p>\n",
       "</div>"
      ],
      "text/plain": [
       "                     uid_connection  index                               uid  \\\n",
       "0  002ca9c06a704c779e69d93cb4fadaa3    649  45588b4e33444ed8b34c523bac808bc4   \n",
       "1  0038ab462149452b98a4d7359a06f9f4   1571  ae828b07e4284d80b652206ffb77278a   \n",
       "2  00474897de044f7fb1ef16888dc198f3   1107  76b2c4aeab404bc79768117e3ddc62b1   \n",
       "3  009c03c265b8418495da038bc3826bf7   1764  c5839e5220e5419e92d878396b0c04bb   \n",
       "4  00aeddb93a8a4120aa984eda6c822747    747  4d02860f58f2443ba4d1ef088756f854   \n",
       "\n",
       "  Drawer ImageNumber                         Author  \\\n",
       "0   158B         556    TIZIANO Vecellio (copia da)   \n",
       "1   158C         120    TIZIANO Vecellio (copia da)   \n",
       "2    47A         858  BELLINI Giovanni (cerchia di)   \n",
       "3   135C          57                     SEC XVI ex   \n",
       "4    21C         228                BASSANO Leandro   \n",
       "\n",
       "                                    Description  \\\n",
       "0               S.Mariá Maddalena. cm. 123 x 91   \n",
       "1  Morte di S. Pietro Martire. mm. 123,8 x 84,2   \n",
       "2                                        Pietà.   \n",
       "3          Un soffitto. Part.: Leda e il cigno.   \n",
       "4  La preparazione del pranzo. cm. 88,3 x 102,9   \n",
       "\n",
       "                     AuthorOriginal    AuthorULANLabel      AuthorULAN  ...  \\\n",
       "0              TIZIANO (copia da -)             Titian  ulan:500031075  ...   \n",
       "1              TIZIANO (copia da -)             Titian  ulan:500031075  ...   \n",
       "2  BELLINI, Giovanni (cerchia di -)  Bellini, Giovanni  ulan:500019244  ...   \n",
       "3                      SEC. XVI ex.                NaN             NaN  ...   \n",
       "4                 BASSANO, Leandro.   Bassano, Leandro  ulan:500015945  ...   \n",
       "\n",
       "      AuthorBirthCity  AuthorDeathCity  \\\n",
       "0             Belluno           Venice   \n",
       "1             Belluno           Venice   \n",
       "2              Venice           Venice   \n",
       "3                 NaN              NaN   \n",
       "4  Bassano del Grappa           Venice   \n",
       "\n",
       "                                        CardboardURL  \\\n",
       "0  https://dhlabsrv4.epfl.ch/iiif_cini/158B%2F158...   \n",
       "1  https://dhlabsrv4.epfl.ch/iiif_cini/158C%2F158...   \n",
       "2  https://dhlabsrv4.epfl.ch/iiif_cini/47A%2F47A_...   \n",
       "3  https://dhlabsrv4.epfl.ch/iiif_cini/135C%2F135...   \n",
       "4  https://dhlabsrv4.epfl.ch/iiif_cini/21C%2F21C_...   \n",
       "\n",
       "                                            ImageURL  \\\n",
       "0  https://dhlabsrv4.epfl.ch/iiif_replica/cini%2F...   \n",
       "1  https://dhlabsrv4.epfl.ch/iiif_replica/cini%2F...   \n",
       "2  https://dhlabsrv4.epfl.ch/iiif_replica/cini%2F...   \n",
       "3  https://dhlabsrv4.epfl.ch/iiif_replica/cini%2F...   \n",
       "4  https://dhlabsrv4.epfl.ch/iiif_replica/cini%2F...   \n",
       "\n",
       "                               img1                              img2  \\\n",
       "0  45588b4e33444ed8b34c523bac808bc4  da54c106180449d1a52993e9a5bc17fd   \n",
       "1  ae828b07e4284d80b652206ffb77278a  ea64207684694d379579998f88b7c29a   \n",
       "2  76b2c4aeab404bc79768117e3ddc62b1  b8dd2c0c2c7146e68e5bbb0aaf6cf803   \n",
       "3  450ee2aceb014709b23a93e1163937c5  c5839e5220e5419e92d878396b0c04bb   \n",
       "4  4d02860f58f2443ba4d1ef088756f854  27bad0f213a342c3987e8cec61e40550   \n",
       "\n",
       "       type                         annotated cluster    set  \n",
       "0  POSITIVE  2018-07-24 14:58:44.559049+00:00    50.0  train  \n",
       "1  POSITIVE  2018-07-16 09:47:57.987515+00:00    51.0   test  \n",
       "2  POSITIVE  2018-03-14 10:46:45.603341+00:00   498.0   test  \n",
       "3  POSITIVE  2018-05-07 08:28:11.797723+00:00    92.0  train  \n",
       "4  POSITIVE  2018-03-23 15:41:53.094226+00:00   218.0  train  \n",
       "\n",
       "[5 rows x 45 columns]"
      ]
     },
     "execution_count": 2,
     "metadata": {},
     "output_type": "execute_result"
    }
   ],
   "source": [
    "data = pd.read_csv(data_dir + 'full_data.csv').drop(columns=['Unnamed: 0', 'level_0'])\n",
    "print(data.shape)\n",
    "data.head()"
   ]
  },
  {
   "cell_type": "markdown",
   "metadata": {},
   "source": [
    "### Creating embeddings of all the images"
   ]
  },
  {
   "cell_type": "code",
   "execution_count": 3,
   "metadata": {},
   "outputs": [
    {
     "name": "stdout",
     "output_type": "stream",
     "text": [
      "(2048,)\n"
     ]
    },
    {
     "data": {
      "text/plain": [
       "array([0.01462797, 0.02479225, 0.02289144, ..., 0.01756204, 0.02368654,\n",
       "       0.02203275], dtype=float32)"
      ]
     },
     "execution_count": 3,
     "metadata": {},
     "output_type": "execute_result"
    }
   ],
   "source": [
    "img = preprocess_image(data_dir + 'subset/' + data['uid'][0] + '.jpg')\n",
    "newmodel = create_model('resnet50', 'max')\n",
    "embedding = get_embedding(img, newmodel, type='pretrained').squeeze(1).squeeze(1)\n",
    "print(embedding.shape)\n",
    "embedding"
   ]
  },
  {
   "cell_type": "code",
   "execution_count": 27,
   "metadata": {},
   "outputs": [
    {
     "name": "stderr",
     "output_type": "stream",
     "text": [
      "100%|██████████| 4357/4357 [23:13<00:00,  3.13it/s]\n"
     ]
    }
   ],
   "source": [
    "newmodel = create_model('resnet50', 'max')\n",
    "embeddings = [[uid, get_embedding(preprocess_image(data_dir + 'subset/' + uid + '.jpg'), newmodel).squeeze(1).squeeze(1)] for uid in tqdm(data['uid'].unique())]"
   ]
  },
  {
   "cell_type": "code",
   "execution_count": null,
   "metadata": {},
   "outputs": [],
   "source": [
    "np.save('resnet50_max_480.npy', np.array(embeddings, dtype=np.ndarray))"
   ]
  },
  {
   "cell_type": "code",
   "execution_count": 7,
   "metadata": {},
   "outputs": [
    {
     "data": {
      "text/plain": [
       "array([['45588b4e33444ed8b34c523bac808bc4',\n",
       "        array([0.01273958, 0.02077351, 0.02422727, ..., 0.01849872, 0.02054269,\n",
       "       0.01348173], dtype=float32)],\n",
       "       ['ae828b07e4284d80b652206ffb77278a',\n",
       "        array([0.01653748, 0.02765266, 0.02819748, ..., 0.01199384, 0.01694367,\n",
       "       0.01413397], dtype=float32)],\n",
       "       ['76b2c4aeab404bc79768117e3ddc62b1',\n",
       "        array([0.01377614, 0.02740756, 0.02341555, ..., 0.01013662, 0.01947277,\n",
       "       0.01492655], dtype=float32)],\n",
       "       ...,\n",
       "       ['ffd362f3b0f64665a6d4708b62c6333c',\n",
       "        array([0.01821662, 0.01876744, 0.0185441 , ..., 0.01633258, 0.02021206,\n",
       "       0.01388135], dtype=float32)],\n",
       "       ['ffd9ce3649364906810269748b8a5ddc',\n",
       "        array([0.01877906, 0.0240321 , 0.02262984, ..., 0.01359423, 0.01878336,\n",
       "       0.01530929], dtype=float32)],\n",
       "       ['fffb47ce9194475087f2c7dc1eaaa41a',\n",
       "        array([0.02208385, 0.02518187, 0.02769189, ..., 0.01206282, 0.02445544,\n",
       "       0.01236099], dtype=float32)]], dtype=object)"
      ]
     },
     "execution_count": 7,
     "metadata": {},
     "output_type": "execute_result"
    }
   ],
   "source": [
    "embeddings = np.load(data_dir + 'resnet50_max_240.npy', allow_pickle=True)\n",
    "embeddings"
   ]
  },
  {
   "cell_type": "markdown",
   "metadata": {},
   "source": [
    "### Finding most similar embeddings"
   ]
  },
  {
   "cell_type": "code",
   "execution_count": 4,
   "metadata": {},
   "outputs": [
    {
     "name": "stdout",
     "output_type": "stream",
     "text": [
      "4593\n",
      "(2862, 46)\n"
     ]
    }
   ],
   "source": [
    "list_downloaded = [\n",
    "    file.split(\"/\")[-1].split(\".\")[0] for file in glob(data_dir + \"subset/*\")\n",
    "]\n",
    "print(len(list_downloaded))\n",
    "\n",
    "train_test = data[data[\"set\"].notnull()].reset_index() #[data['img1'].isin(list_downloaded)][data['img2'].isin(list_downloaded)]\n",
    "print(train_test.shape)\n"
   ]
  },
  {
   "cell_type": "code",
   "execution_count": 5,
   "metadata": {},
   "outputs": [
    {
     "name": "stdout",
     "output_type": "stream",
     "text": [
      "resnext-101 avg 480\n",
      "original scores\n"
     ]
    },
    {
     "name": "stderr",
     "output_type": "stream",
     "text": [
      "100%|██████████| 2862/2862 [00:17<00:00, 166.11it/s]\n"
     ]
    },
    {
     "name": "stdout",
     "output_type": "stream",
     "text": [
      "all positions 285.85919196748745\n",
      "min positions 119.34677419354838\n",
      "median positions 327.06129032258065\n",
      "mean average precision 0.12330041312737605\n",
      "recall @ 400 0.5402476958525345\n",
      "recall @ 200 0.4332667690732207\n",
      "recall @ 100 0.35131592421915003\n",
      "recall @ 50 0.26671786994367636\n",
      "recall @ 20 0.20953661034306195\n",
      "dimensionality reduction scores 500\n"
     ]
    },
    {
     "name": "stderr",
     "output_type": "stream",
     "text": [
      "100%|██████████| 2862/2862 [00:08<00:00, 352.30it/s]\n"
     ]
    },
    {
     "name": "stdout",
     "output_type": "stream",
     "text": [
      "all positions 286.2098972029644\n",
      "min positions 123.20806451612903\n",
      "median positions 327.35403225806454\n",
      "mean average precision 0.1165710427884686\n",
      "recall @ 400 0.5349148745519714\n",
      "recall @ 200 0.42513696876600104\n",
      "recall @ 100 0.34475230414746544\n",
      "recall @ 50 0.26742831541218637\n",
      "recall @ 20 0.20004096262160775\n",
      "\n",
      "\n",
      "\n",
      "\n",
      "\n",
      "regnet_x_32gf avg 480\n",
      "original scores\n"
     ]
    },
    {
     "name": "stderr",
     "output_type": "stream",
     "text": [
      "100%|██████████| 2862/2862 [00:28<00:00, 102.02it/s]\n"
     ]
    },
    {
     "name": "stdout",
     "output_type": "stream",
     "text": [
      "all positions 311.8670810423141\n",
      "min positions 145.46935483870968\n",
      "median positions 359.76048387096773\n",
      "mean average precision 0.060251189957378\n",
      "recall @ 400 0.4647036610343062\n",
      "recall @ 200 0.33952764976958527\n",
      "recall @ 100 0.23056003584229387\n",
      "recall @ 50 0.18088581669226828\n",
      "recall @ 20 0.1185752688172043\n",
      "dimensionality reduction scores 500\n"
     ]
    },
    {
     "name": "stderr",
     "output_type": "stream",
     "text": [
      "100%|██████████| 2862/2862 [00:08<00:00, 342.48it/s]\n"
     ]
    },
    {
     "name": "stdout",
     "output_type": "stream",
     "text": [
      "all positions 310.28711451111644\n",
      "min positions 141.56935483870967\n",
      "median positions 358.46532258064514\n",
      "mean average precision 0.05456590015693898\n",
      "recall @ 400 0.4482219662058372\n",
      "recall @ 200 0.3490079365079365\n",
      "recall @ 100 0.26822644649257554\n",
      "recall @ 50 0.19230030721966207\n",
      "recall @ 20 0.1088799283154122\n",
      "\n",
      "\n",
      "\n",
      "\n",
      "\n",
      "resnet101 avg 480\n",
      "original scores\n"
     ]
    },
    {
     "name": "stderr",
     "output_type": "stream",
     "text": [
      "100%|██████████| 2862/2862 [00:16<00:00, 173.08it/s]\n"
     ]
    },
    {
     "name": "stdout",
     "output_type": "stream",
     "text": [
      "all positions 305.6535978962467\n",
      "min positions 134.4225806451613\n",
      "median positions 353.64677419354837\n",
      "mean average precision 0.0725699063652337\n",
      "recall @ 400 0.46006144393241166\n",
      "recall @ 200 0.35265232974910393\n",
      "recall @ 100 0.27937660010240656\n",
      "recall @ 50 0.2145346902201741\n",
      "recall @ 20 0.1602726574500768\n",
      "dimensionality reduction scores 500\n"
     ]
    },
    {
     "name": "stderr",
     "output_type": "stream",
     "text": [
      "100%|██████████| 2862/2862 [00:07<00:00, 357.82it/s]\n"
     ]
    },
    {
     "name": "stdout",
     "output_type": "stream",
     "text": [
      "all positions 305.3939756155869\n",
      "min positions 134.88870967741934\n",
      "median positions 353.7911290322581\n",
      "mean average precision 0.06819496340542985\n",
      "recall @ 400 0.4634171786994368\n",
      "recall @ 200 0.3545673323092678\n",
      "recall @ 100 0.27870775729646696\n",
      "recall @ 50 0.21350358422939064\n",
      "recall @ 20 0.14147977470558115\n",
      "\n",
      "\n",
      "\n",
      "\n",
      "\n",
      "resnet152 avg 480\n",
      "original scores\n"
     ]
    },
    {
     "name": "stderr",
     "output_type": "stream",
     "text": [
      "100%|██████████| 2862/2862 [00:16<00:00, 178.78it/s]\n"
     ]
    },
    {
     "name": "stdout",
     "output_type": "stream",
     "text": [
      "all positions 302.4754960554626\n",
      "min positions 133.6725806451613\n",
      "median positions 349.4290322580645\n",
      "mean average precision 0.0930941107878368\n",
      "recall @ 400 0.4839279313876088\n",
      "recall @ 200 0.3765988223246288\n",
      "recall @ 100 0.2831899641577061\n",
      "recall @ 50 0.22901817716333847\n",
      "recall @ 20 0.17410394265232976\n",
      "dimensionality reduction scores 500\n"
     ]
    },
    {
     "name": "stderr",
     "output_type": "stream",
     "text": [
      "100%|██████████| 2862/2862 [00:07<00:00, 368.81it/s]\n"
     ]
    },
    {
     "name": "stdout",
     "output_type": "stream",
     "text": [
      "all positions 303.21969878077937\n",
      "min positions 133.18548387096774\n",
      "median positions 352.69354838709677\n",
      "mean average precision 0.08954008016960034\n",
      "recall @ 400 0.4749391961085509\n",
      "recall @ 200 0.3704051459293395\n",
      "recall @ 100 0.2925902457757297\n",
      "recall @ 50 0.22731822836661547\n",
      "recall @ 20 0.17456541218637991\n",
      "\n",
      "\n",
      "\n",
      "\n",
      "\n"
     ]
    }
   ],
   "source": [
    "\n",
    "for model in ['resnext-101','regnet_x_32gf', 'resnet101', 'resnet152']: #, \"efficientnet0\", \"efficientnet7\" 'densenet161',==3 dimensions?? \n",
    "    for pool in [\"avg\"]: #, \"max\"\n",
    "        for resolution in [\"480\"]: #\"240\", \n",
    "            print(model, pool, resolution)\n",
    "            embeddings = np.load(\n",
    "                data_dir + 'embeddings/' + model + \"_\" + pool + \"_\" + resolution + \".npy\",\n",
    "                allow_pickle=True,\n",
    "            )        \n",
    "            embs = get_lower_dimension(embeddings, dimensions=500, method='pca')\n",
    "            embeddings_new = np.array([[embeddings[i, 0], embs[i]] for i in range(len(embs))], dtype=np.ndarray)\n",
    "            #embs = get_lower_dimension_(embeddings, dimensions=500, method='svd')\n",
    "            #embeddings_new_2 = np.array([[embeddings[i, 0], embs[i]] for i in range(len(embs))], dtype=np.ndarray)\n",
    "            print('original scores')\n",
    "            get_scores(embeddings, train_test, data, list_downloaded)\n",
    "            print('dimensionality reduction scores 500')\n",
    "            get_scores(embeddings_new, train_test, data, list_downloaded)\n",
    "            print('\\n\\n\\n\\n')\n",
    "            #print('dimensionality reduction scores 250')\n",
    "            #get_scores(embeddings_new_2, train_test, data, list_downloaded)\n",
    "            \n",
    "            "
   ]
  },
  {
   "cell_type": "code",
   "execution_count": 7,
   "metadata": {},
   "outputs": [
    {
     "data": {
      "text/plain": [
       "<All keys matched successfully>"
      ]
     },
     "execution_count": 7,
     "metadata": {},
     "output_type": "execute_result"
    }
   ],
   "source": [
    "device = 'cuda'\n",
    "model = ReplicaNet('resnext-101', device)\n",
    "model.load_state_dict(torch.load(data_dir + \"model_weights_\" + 'resnext-101'))"
   ]
  },
  {
   "cell_type": "code",
   "execution_count": null,
   "metadata": {},
   "outputs": [],
   "source": [
    "embeddings = [[uid, get_embedding(preprocess_image(data_dir + 'subset/' + uid + '.jpg', resolution=360), model, device).squeeze(1).squeeze(1)] for uid in tqdm(data['uid'].unique())]"
   ]
  },
  {
   "cell_type": "code",
   "execution_count": 12,
   "metadata": {},
   "outputs": [],
   "source": [
    "np.save(data_dir + 'resnext-101_epoch_6.npy', np.array(embeddings, dtype=np.ndarray))"
   ]
  },
  {
   "cell_type": "code",
   "execution_count": 4,
   "metadata": {},
   "outputs": [
    {
     "name": "stdout",
     "output_type": "stream",
     "text": [
      "resnext-101 avg 360 epoch  1\n",
      "original scores\n"
     ]
    },
    {
     "name": "stderr",
     "output_type": "stream",
     "text": [
      "100%|██████████| 2862/2862 [00:10<00:00, 278.31it/s]\n"
     ]
    },
    {
     "name": "stdout",
     "output_type": "stream",
     "text": [
      "all positions 267.6495338273966\n",
      "min positions 89.64354838709677\n",
      "median positions 307.26451612903224\n",
      "mean average precision 0.17015603007121957\n",
      "recall @ 400 0.6022113415258576\n",
      "recall @ 200 0.5179115463389657\n",
      "recall @ 100 0.4260835893497184\n",
      "recall @ 50 0.34440028161802355\n",
      "recall @ 20 0.28553443420378904\n"
     ]
    }
   ],
   "source": [
    "for model in ['resnext-101',]: \n",
    "    for pool in [\"avg\"]: \n",
    "        for resolution in [\"360\"]: \n",
    "            for epoch in ['1']:      #, '6'      \n",
    "                print(model, pool, resolution, 'epoch ', epoch)\n",
    "                embeddings = np.load(\n",
    "                    data_dir + 'embeddings/resnext-101_epoch_' + epoch + \".npy\",\n",
    "                    allow_pickle=True,\n",
    "                )        \n",
    "                print('original scores')\n",
    "                get_scores(embeddings, train_test, data, list_downloaded)\n",
    "            "
   ]
  },
  {
   "cell_type": "code",
   "execution_count": 4,
   "metadata": {},
   "outputs": [
    {
     "name": "stderr",
     "output_type": "stream",
     "text": [
      "100%|██████████| 2862/2862 [00:10<00:00, 264.86it/s]\n"
     ]
    },
    {
     "name": "stdout",
     "output_type": "stream",
     "text": [
      "all positions 285.85919196748745\n",
      "min positions 119.34677419354838\n",
      "median positions 327.06129032258065\n",
      "mean average precision 0.12329775891310613\n",
      "recall @ 400 0.5398380696364568\n",
      "recall @ 200 0.4330619559651818\n",
      "recall @ 100 0.35111111111111115\n",
      "recall @ 50 0.26671786994367636\n",
      "recall @ 20 0.20953661034306195\n"
     ]
    },
    {
     "data": {
      "text/plain": [
       "(285.85919196748745,\n",
       " 119.34677419354838,\n",
       " 327.06129032258065,\n",
       " 0.12329775891310613,\n",
       " 0.5398380696364568,\n",
       " 0.4330619559651818,\n",
       " 0.35111111111111115,\n",
       " 0.26671786994367636,\n",
       " 0.20953661034306195)"
      ]
     },
     "execution_count": 4,
     "metadata": {},
     "output_type": "execute_result"
    }
   ],
   "source": [
    "embeddings = np.load(\n",
    "                    data_dir + 'embeddings/resnext-101_avg_480' + \".npy\",\n",
    "                    allow_pickle=True,\n",
    "                )        \n",
    "embeddings.shape\n",
    "\n",
    "get_scores(embeddings, train_test, data, list_downloaded)"
   ]
  },
  {
   "cell_type": "code",
   "execution_count": 5,
   "metadata": {},
   "outputs": [
    {
     "name": "stdout",
     "output_type": "stream",
     "text": [
      "(329480, 3)\n"
     ]
    },
    {
     "data": {
      "text/plain": [
       "(4357, 3)"
      ]
     },
     "execution_count": 5,
     "metadata": {},
     "output_type": "execute_result"
    }
   ],
   "source": [
    "embeddings = np.load(path + 'Replica_UIDs_ResNet_VGG_All.npy',allow_pickle=True)\n",
    "print(embeddings.shape)\n",
    "embeddings = embeddings[np.isin(embeddings[:,0], list(data[\"uid\"].unique()))]\n",
    "\n",
    "embeddings.shape"
   ]
  },
  {
   "cell_type": "code",
   "execution_count": 6,
   "metadata": {},
   "outputs": [
    {
     "data": {
      "text/plain": [
       "(4357, 2)"
      ]
     },
     "execution_count": 6,
     "metadata": {},
     "output_type": "execute_result"
    }
   ],
   "source": [
    "embeddings = embeddings[:,:2]#[order]\n",
    "embeddings.shape"
   ]
  },
  {
   "cell_type": "code",
   "execution_count": 10,
   "metadata": {},
   "outputs": [],
   "source": [
    "np.save(data_dir + 'embeddings/benoit.npy', embeddings)"
   ]
  },
  {
   "cell_type": "code",
   "execution_count": 7,
   "metadata": {},
   "outputs": [
    {
     "name": "stderr",
     "output_type": "stream",
     "text": [
      "100%|██████████| 2862/2862 [00:23<00:00, 123.57it/s]\n"
     ]
    },
    {
     "name": "stdout",
     "output_type": "stream",
     "text": [
      "all positions 171.7779105904853\n",
      "min positions 43.262903225806454\n",
      "median positions 173.16370967741935\n",
      "mean average precision 0.5398631955614576\n",
      "recall @ 400 0.8570922939068099\n",
      "recall @ 200 0.8272791858678954\n",
      "recall @ 100 0.7868381976446492\n",
      "recall @ 50 0.7304032258064516\n",
      "recall @ 20 0.6659901433691756\n"
     ]
    },
    {
     "data": {
      "text/plain": [
       "(171.7779105904853,\n",
       " 43.262903225806454,\n",
       " 173.16370967741935,\n",
       " 0.5398631955614576,\n",
       " 0.8570922939068099,\n",
       " 0.8272791858678954,\n",
       " 0.7868381976446492,\n",
       " 0.7304032258064516,\n",
       " 0.6659901433691756)"
      ]
     },
     "execution_count": 7,
     "metadata": {},
     "output_type": "execute_result"
    }
   ],
   "source": [
    "get_scores(embeddings, train_test, data, list_downloaded, True)"
   ]
  },
  {
   "cell_type": "code",
   "execution_count": 14,
   "metadata": {},
   "outputs": [
    {
     "name": "stdout",
     "output_type": "stream",
     "text": [
      "pca 2\n",
      "dimensionality reduction scores\n"
     ]
    },
    {
     "name": "stderr",
     "output_type": "stream",
     "text": [
      "100%|██████████| 2862/2862 [00:07<00:00, 402.21it/s]\n"
     ]
    },
    {
     "name": "stdout",
     "output_type": "stream",
     "text": [
      "all positions 339.7645230695673\n",
      "min positions 200.08709677419355\n",
      "median positions 371.708064516129\n",
      "mean average precision 0.011677539803727781\n",
      "recall @ 400 0.4086437532002048\n",
      "recall @ 200 0.24560739887352792\n",
      "recall @ 100 0.13100742447516642\n",
      "recall @ 50 0.0654416282642089\n",
      "recall @ 20 0.03247759856630825\n",
      "pca 50\n",
      "dimensionality reduction scores\n"
     ]
    },
    {
     "name": "stderr",
     "output_type": "stream",
     "text": [
      "100%|██████████| 2862/2862 [00:08<00:00, 341.63it/s]\n"
     ]
    },
    {
     "name": "stdout",
     "output_type": "stream",
     "text": [
      "all positions 178.46904135787713\n",
      "min positions 47.16935483870968\n",
      "median positions 181.88951612903224\n",
      "mean average precision 0.4433886583173794\n",
      "recall @ 400 0.8401747311827956\n",
      "recall @ 200 0.8019009216589862\n",
      "recall @ 100 0.7622958269329237\n",
      "recall @ 50 0.6883115719406041\n",
      "recall @ 20 0.6008595750128007\n",
      "pca 100\n",
      "dimensionality reduction scores\n"
     ]
    },
    {
     "name": "stderr",
     "output_type": "stream",
     "text": [
      "100%|██████████| 2862/2862 [00:08<00:00, 326.11it/s]\n"
     ]
    },
    {
     "name": "stdout",
     "output_type": "stream",
     "text": [
      "all positions 175.38871623236912\n",
      "min positions 45.737096774193546\n",
      "median positions 178.6483870967742\n",
      "mean average precision 0.48930753704834434\n",
      "recall @ 400 0.8488914490527394\n",
      "recall @ 200 0.8166429851510497\n",
      "recall @ 100 0.7754365079365079\n",
      "recall @ 50 0.7078680235535073\n",
      "recall @ 20 0.6254339477726575\n",
      "pca 500\n",
      "dimensionality reduction scores\n"
     ]
    },
    {
     "name": "stderr",
     "output_type": "stream",
     "text": [
      "100%|██████████| 2862/2862 [00:11<00:00, 242.59it/s]\n"
     ]
    },
    {
     "name": "stdout",
     "output_type": "stream",
     "text": [
      "all positions 171.18097059526656\n",
      "min positions 43.01451612903226\n",
      "median positions 173.23225806451612\n",
      "mean average precision 0.5411702328017148\n",
      "recall @ 400 0.8600224014336919\n",
      "recall @ 200 0.8315994623655915\n",
      "recall @ 100 0.7822471838197644\n",
      "recall @ 50 0.7339228110599079\n",
      "recall @ 20 0.666434331797235\n",
      "umap 2\n",
      "dimensionality reduction scores\n"
     ]
    },
    {
     "name": "stderr",
     "output_type": "stream",
     "text": [
      "100%|██████████| 2862/2862 [00:06<00:00, 422.94it/s]\n"
     ]
    },
    {
     "name": "stdout",
     "output_type": "stream",
     "text": [
      "all positions 205.3597896246713\n",
      "min positions 88.86612903225806\n",
      "median positions 198.8991935483871\n",
      "mean average precision 0.28467163372377763\n",
      "recall @ 400 0.7399551971326165\n",
      "recall @ 200 0.6996774193548387\n",
      "recall @ 100 0.6521780593958013\n",
      "recall @ 50 0.5740284178187404\n",
      "recall @ 20 0.4732782898105478\n",
      "umap 50\n",
      "dimensionality reduction scores\n"
     ]
    },
    {
     "name": "stderr",
     "output_type": "stream",
     "text": [
      "100%|██████████| 2862/2862 [00:08<00:00, 350.25it/s]\n"
     ]
    },
    {
     "name": "stdout",
     "output_type": "stream",
     "text": [
      "all positions 191.4647382261535\n",
      "min positions 73.14516129032258\n",
      "median positions 185.6032258064516\n",
      "mean average precision 0.4433402430918554\n",
      "recall @ 400 0.7884267793138761\n",
      "recall @ 200 0.7444271633384537\n",
      "recall @ 100 0.7138760880696364\n",
      "recall @ 50 0.6835714285714286\n",
      "recall @ 20 0.6128699436763952\n",
      "umap 100\n",
      "dimensionality reduction scores\n"
     ]
    },
    {
     "name": "stderr",
     "output_type": "stream",
     "text": [
      "100%|██████████| 2862/2862 [00:09<00:00, 317.80it/s]\n"
     ]
    },
    {
     "name": "stdout",
     "output_type": "stream",
     "text": [
      "all positions 191.15610805641884\n",
      "min positions 72.52096774193548\n",
      "median positions 187.33709677419355\n",
      "mean average precision 0.4431890131757075\n",
      "recall @ 400 0.7985016641065028\n",
      "recall @ 200 0.747491679467486\n",
      "recall @ 100 0.708015873015873\n",
      "recall @ 50 0.6798348694316437\n",
      "recall @ 20 0.6069777265745008\n",
      "umap 500\n",
      "dimensionality reduction scores\n"
     ]
    },
    {
     "name": "stderr",
     "output_type": "stream",
     "text": [
      "100%|██████████| 2862/2862 [00:11<00:00, 250.67it/s]\n"
     ]
    },
    {
     "name": "stdout",
     "output_type": "stream",
     "text": [
      "all positions 191.6201290939517\n",
      "min positions 74.8\n",
      "median positions 186.3709677419355\n",
      "mean average precision 0.4409203216040517\n",
      "recall @ 400 0.7850396825396826\n",
      "recall @ 200 0.746752432155658\n",
      "recall @ 100 0.7050857654889914\n",
      "recall @ 50 0.678410138248848\n",
      "recall @ 20 0.6086162314388122\n",
      "svd 2\n",
      "dimensionality reduction scores\n"
     ]
    },
    {
     "name": "stderr",
     "output_type": "stream",
     "text": [
      "100%|██████████| 2862/2862 [00:06<00:00, 422.12it/s]\n"
     ]
    },
    {
     "name": "stdout",
     "output_type": "stream",
     "text": [
      "all positions 363.71790580922783\n",
      "min positions 244.18225806451613\n",
      "median positions 393.51854838709676\n",
      "mean average precision 0.005496268622766559\n",
      "recall @ 400 0.2356334928512348\n",
      "recall @ 200 0.13491418527708848\n",
      "recall @ 100 0.07667818740399385\n",
      "recall @ 50 0.03160138248847926\n",
      "recall @ 20 0.01588325652841782\n",
      "svd 50\n",
      "dimensionality reduction scores\n"
     ]
    },
    {
     "name": "stderr",
     "output_type": "stream",
     "text": [
      "100%|██████████| 2862/2862 [00:08<00:00, 352.37it/s]\n"
     ]
    },
    {
     "name": "stdout",
     "output_type": "stream",
     "text": [
      "all positions 178.98135309586422\n",
      "min positions 47.36451612903226\n",
      "median positions 182.36451612903227\n",
      "mean average precision 0.43855257885499077\n",
      "recall @ 400 0.8403859447004608\n",
      "recall @ 200 0.8002419354838709\n",
      "recall @ 100 0.7591865079365079\n",
      "recall @ 50 0.6884805427547364\n",
      "recall @ 20 0.596334485407066\n",
      "svd 100\n",
      "dimensionality reduction scores\n"
     ]
    },
    {
     "name": "stderr",
     "output_type": "stream",
     "text": [
      "100%|██████████| 2862/2862 [00:08<00:00, 324.44it/s]\n"
     ]
    },
    {
     "name": "stdout",
     "output_type": "stream",
     "text": [
      "all positions 175.1403299067655\n",
      "min positions 45.75645161290323\n",
      "median positions 177.91612903225806\n",
      "mean average precision 0.4898631157603849\n",
      "recall @ 400 0.8491333845366102\n",
      "recall @ 200 0.8150748847926268\n",
      "recall @ 100 0.7722779057859703\n",
      "recall @ 50 0.707083973374296\n",
      "recall @ 20 0.6319559651817717\n",
      "svd 500\n",
      "dimensionality reduction scores\n"
     ]
    },
    {
     "name": "stderr",
     "output_type": "stream",
     "text": [
      "100%|██████████| 2862/2862 [00:11<00:00, 246.74it/s]\n"
     ]
    },
    {
     "name": "stdout",
     "output_type": "stream",
     "text": [
      "all positions 171.13028926607697\n",
      "min positions 42.94193548387097\n",
      "median positions 172.95967741935485\n",
      "mean average precision 0.5409108013014658\n",
      "recall @ 400 0.8600224014336919\n",
      "recall @ 200 0.8332123655913979\n",
      "recall @ 100 0.7845129288274449\n",
      "recall @ 50 0.7325518433179723\n",
      "recall @ 20 0.6673559907834101\n"
     ]
    }
   ],
   "source": [
    "embeddings = np.load(data_dir + 'embeddings/benoit.npy', allow_pickle=True)        \n",
    "        \n",
    "for method in ['pca','umap', 'svd', ]:  #'tsne'\n",
    "    for dimension in [2, 50, 100, 500]:  \n",
    "        print(method, dimension)\n",
    "        embs = get_lower_dimension(embeddings, dimensions=dimension, method=method)\n",
    "        embeddings_new = np.array([[embeddings[i, 0], embs[i]] for i in range(len(embs))], dtype=np.ndarray)\n",
    "        print('dimensionality reduction scores')\n",
    "        get_scores(embeddings_new, train_test, data, list_downloaded, True)\n"
   ]
  },
  {
   "cell_type": "code",
   "execution_count": 13,
   "metadata": {},
   "outputs": [
    {
     "name": "stdout",
     "output_type": "stream",
     "text": [
      "tsne 2\n",
      "dimensionality reduction scores\n"
     ]
    },
    {
     "name": "stderr",
     "output_type": "stream",
     "text": [
      "100%|██████████| 2862/2862 [00:07<00:00, 401.14it/s]\n"
     ]
    },
    {
     "name": "stdout",
     "output_type": "stream",
     "text": [
      "all positions 193.31938799904376\n",
      "min positions 79.99193548387096\n",
      "median positions 187.80806451612904\n",
      "mean average precision 0.5653457160367771\n",
      "recall @ 400 0.7596441372247824\n",
      "recall @ 200 0.730515873015873\n",
      "recall @ 100 0.695999743983615\n",
      "recall @ 50 0.6833653353814645\n",
      "recall @ 20 0.6451139272913466\n"
     ]
    }
   ],
   "source": [
    "for method in ['tsne']:  \n",
    "    for dimension in [2]: #, 50, 100, 500 \n",
    "        print(method, dimension)\n",
    "        embs = get_lower_dimension(embeddings, dimensions=dimension, method=method)\n",
    "        embeddings_new = np.array([[embeddings[i, 0], embs[i]] for i in range(len(embs))], dtype=np.ndarray)\n",
    "        print('dimensionality reduction scores')\n",
    "        get_scores(embeddings_new, train_test, data, list_downloaded, True)\n"
   ]
  },
  {
   "cell_type": "code",
   "execution_count": 10,
   "metadata": {},
   "outputs": [
    {
     "name": "stderr",
     "output_type": "stream",
     "text": [
      "100%|██████████| 2862/2862 [00:35<00:00, 80.08it/s]"
     ]
    },
    {
     "name": "stdout",
     "output_type": "stream",
     "text": [
      "2862\n",
      "(2792, 4)\n"
     ]
    },
    {
     "name": "stderr",
     "output_type": "stream",
     "text": [
      "\n"
     ]
    },
    {
     "data": {
      "text/html": [
       "<div>\n",
       "<style scoped>\n",
       "    .dataframe tbody tr th:only-of-type {\n",
       "        vertical-align: middle;\n",
       "    }\n",
       "\n",
       "    .dataframe tbody tr th {\n",
       "        vertical-align: top;\n",
       "    }\n",
       "\n",
       "    .dataframe thead th {\n",
       "        text-align: right;\n",
       "    }\n",
       "</style>\n",
       "<table border=\"1\" class=\"dataframe\">\n",
       "  <thead>\n",
       "    <tr style=\"text-align: right;\">\n",
       "      <th></th>\n",
       "      <th>A</th>\n",
       "      <th>B</th>\n",
       "      <th>C</th>\n",
       "      <th>set</th>\n",
       "    </tr>\n",
       "  </thead>\n",
       "  <tbody>\n",
       "    <tr>\n",
       "      <th>2288</th>\n",
       "      <td>fce588c0253e47518e975e5cb555e8a8</td>\n",
       "      <td>1bc3bd59f2e4406ab150ada132ad9171</td>\n",
       "      <td>5a74a04f32e540b19b50f3d0575a96cc</td>\n",
       "      <td>test</td>\n",
       "    </tr>\n",
       "    <tr>\n",
       "      <th>2137</th>\n",
       "      <td>5517afb357c340e992c5f7e81c1f63d7</td>\n",
       "      <td>179de993c19543babf3508a668c9329a</td>\n",
       "      <td>884b9275ec7a4b32813c817102a2e9b9</td>\n",
       "      <td>train</td>\n",
       "    </tr>\n",
       "    <tr>\n",
       "      <th>1414</th>\n",
       "      <td>ae79feb06e024fca8d9713da23698767</td>\n",
       "      <td>b87900df4bcb46b780a5a06ccafb5447</td>\n",
       "      <td>dcd275a84f824ee6b2e006e8fd0f7dbf</td>\n",
       "      <td>train</td>\n",
       "    </tr>\n",
       "    <tr>\n",
       "      <th>1854</th>\n",
       "      <td>5d79b149cf7445a4bfdf23d9b798a68c</td>\n",
       "      <td>066c36f2a35f4ba583e7796a212203f1</td>\n",
       "      <td>2a6bc15814964956a95bb30e7bb4fede</td>\n",
       "      <td>test</td>\n",
       "    </tr>\n",
       "    <tr>\n",
       "      <th>294</th>\n",
       "      <td>ba9ea6d7c94741ae839dfa5a3e843dc9</td>\n",
       "      <td>5e11887c56114a93a52ab33a3a59c780</td>\n",
       "      <td>aa7426ea130340f983f3bc696c0c072e</td>\n",
       "      <td>train</td>\n",
       "    </tr>\n",
       "  </tbody>\n",
       "</table>\n",
       "</div>"
      ],
      "text/plain": [
       "                                     A                                 B  \\\n",
       "2288  fce588c0253e47518e975e5cb555e8a8  1bc3bd59f2e4406ab150ada132ad9171   \n",
       "2137  5517afb357c340e992c5f7e81c1f63d7  179de993c19543babf3508a668c9329a   \n",
       "1414  ae79feb06e024fca8d9713da23698767  b87900df4bcb46b780a5a06ccafb5447   \n",
       "1854  5d79b149cf7445a4bfdf23d9b798a68c  066c36f2a35f4ba583e7796a212203f1   \n",
       "294   ba9ea6d7c94741ae839dfa5a3e843dc9  5e11887c56114a93a52ab33a3a59c780   \n",
       "\n",
       "                                     C    set  \n",
       "2288  5a74a04f32e540b19b50f3d0575a96cc   test  \n",
       "2137  884b9275ec7a4b32813c817102a2e9b9  train  \n",
       "1414  dcd275a84f824ee6b2e006e8fd0f7dbf  train  \n",
       "1854  2a6bc15814964956a95bb30e7bb4fede   test  \n",
       "294   aa7426ea130340f983f3bc696c0c072e  train  "
      ]
     },
     "execution_count": 10,
     "metadata": {},
     "output_type": "execute_result"
    }
   ],
   "source": [
    "final = make_training_set_orig(embeddings, train_test, data, data_dir, n=2)\n",
    "final.sample(5)"
   ]
  },
  {
   "cell_type": "code",
   "execution_count": 6,
   "metadata": {},
   "outputs": [],
   "source": [
    "## add different dimensionality reduction efforts"
   ]
  },
  {
   "cell_type": "code",
   "execution_count": 2,
   "metadata": {},
   "outputs": [],
   "source": [
    "embeddings = np.load(\n",
    "                    #data_dir + 'resnext-101_avg_480' + \".npy\",\n",
    "                    data_dir + 'embeddings/resnext-101_epoch_314-04-2022_23:25:29.npy',\n",
    "                    allow_pickle=True,\n",
    "                )        "
   ]
  },
  {
   "cell_type": "code",
   "execution_count": 3,
   "metadata": {},
   "outputs": [],
   "source": [
    "data = pd.read_csv(data_dir + 'dedup_data_sample.csv').drop(columns=['Unnamed: 0', 'level_0'])\n",
    "train_test = data[data[\"set\"].notnull()].reset_index() #[data['img1'].isin(list_downloaded)][data['img2'].isin(list_downloaded)]\n"
   ]
  },
  {
   "cell_type": "code",
   "execution_count": 4,
   "metadata": {},
   "outputs": [
    {
     "name": "stdout",
     "output_type": "stream",
     "text": [
      "tsne 2\n",
      "dimensionality reduction scores\n"
     ]
    },
    {
     "name": "stderr",
     "output_type": "stream",
     "text": [
      "100%|██████████| 2862/2862 [00:06<00:00, 459.37it/s]\n"
     ]
    },
    {
     "name": "stdout",
     "output_type": "stream",
     "text": [
      "all positions 274.91861418614184\n",
      "min positions 139.67001434720228\n",
      "median positions 299.7446197991392\n",
      "mean average precision 0.32877714548898634\n",
      "recall @ 400 0.5779998178133042\n",
      "recall @ 200 0.5264694495684452\n",
      "recall @ 100 0.484360410830999\n",
      "recall @ 50 0.4475359249390813\n",
      "recall @ 20 0.4109397855452375\n"
     ]
    }
   ],
   "source": [
    "for method in ['tsne']:  \n",
    "    for dimension in [2]: #, 50, 100, 500 \n",
    "        print(method, dimension)\n",
    "        embs = get_lower_dimension(embeddings, dimensions=dimension, method=method)\n",
    "        embeddings_new = np.array([[embeddings[i, 0], embs[i]] for i in range(len(embs))], dtype=np.ndarray)\n",
    "        print('dimensionality reduction scores')\n",
    "        get_scores(embeddings_new, train_test, data)\n"
   ]
  },
  {
   "cell_type": "code",
   "execution_count": 5,
   "metadata": {},
   "outputs": [],
   "source": [
    "np.save(\n",
    "        data_dir\n",
    "        + \"embeddings/\"\n",
    "        + 'resnext-101'\n",
    "        + \"_tsne_2\"\n",
    "        + \".npy\",\n",
    "        embeddings_new,\n",
    "        )\n"
   ]
  },
  {
   "cell_type": "code",
   "execution_count": null,
   "metadata": {},
   "outputs": [],
   "source": []
  }
 ],
 "metadata": {
  "interpreter": {
   "hash": "31f2aee4e71d21fbe5cf8b01ff0e069b9275f58929596ceb00d14d90e3e16cd6"
  },
  "kernelspec": {
   "display_name": "Xonsh",
   "language": "python",
   "name": "python3"
  },
  "language_info": {
   "codemirror_mode": {
    "name": "ipython",
    "version": 3
   },
   "file_extension": ".py",
   "mimetype": "text/x-python",
   "name": "python",
   "nbconvert_exporter": "python",
   "pygments_lexer": "ipython3",
   "version": "3.8.12"
  },
  "orig_nbformat": 4
 },
 "nbformat": 4,
 "nbformat_minor": 2
}
